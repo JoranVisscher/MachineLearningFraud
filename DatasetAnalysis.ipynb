{
 "cells": [
  {
   "cell_type": "markdown",
   "metadata": {},
   "source": [
    "# Dataset analysis"
   ]
  },
  {
   "cell_type": "markdown",
   "metadata": {},
   "source": [
    "# Introduction"
   ]
  },
  {
   "cell_type": "markdown",
   "metadata": {},
   "source": [
    "In this dataset analysis, we aim to identify potential features that could significantly impact whether a transaction is fraudulent. By thoroughly analyzing the dataset, we hope to uncover patterns and correlations that will guide our feature selection and clean up our (very large) dataset.\n",
    "\n",
    "The insights gained from this analysis will enable us to clearly and specifically formulate our two sub-questions, which will focus on the role of these features in predicting fraudulent transactions. "
   ]
  },
  {
   "cell_type": "markdown",
   "metadata": {},
   "source": [
    "# Specific data set explanation (\"Transaction data\")\n",
    "\n",
    "In this section, we will dive deeper into the dataset by importing its features and providing a detailed explanation of each feature. Understanding the dataset's structure and the role of its features is essential for identifying those that may influence whether a transaction is fraudulent."
   ]
  },
  {
   "cell_type": "code",
   "execution_count": 1,
   "metadata": {},
   "outputs": [
    {
     "name": "stdout",
     "output_type": "stream",
     "text": [
      "Index(['TransactionID', 'isFraud', 'TransactionDT', 'TransactionAmt',\n",
      "       'ProductCD', 'card1', 'card2', 'card3', 'card4', 'card5',\n",
      "       ...\n",
      "       'V330', 'V331', 'V332', 'V333', 'V334', 'V335', 'V336', 'V337', 'V338',\n",
      "       'V339'],\n",
      "      dtype='object', length=394)\n"
     ]
    }
   ],
   "source": [
    "import pandas as pd\n",
    "\n",
    "# Load the dataset\n",
    "df = pd.read_csv('train_transaction.csv')\n",
    "\n",
    "# Get the column names (features)\n",
    "features = df.columns\n",
    "print(features)"
   ]
  },
  {
   "cell_type": "markdown",
   "metadata": {},
   "source": [
    "As you can see from the code, the dataset contains 394 features. We need to comb through these columns and identify which ones are most relevant for our sub-question. Before diving into feature selection, we will first provide a detailed explanation of all the columns in the next section. This will help us understand the context of each feature and decide which ones might be important for predicting fraudulent transactions.\n",
    "\n",
    "<br>\n",
    "\n",
    "**1.Transaction Information:**\n",
    "\n",
    "\n",
    "TransactionID:  Unique identifier for each transaction.\n",
    "\n",
    "isFraud: Binary target variable indicating whether the transaction is fraudulent or not.\n",
    "\n",
    "TransactionDT: Time delta from a reference datetime, representing the time of the transaction.\n",
    "\n",
    "TransactionAmt: The amount of money involved in the transaction (in USD).\n",
    "\n",
    "ProductCD: The product code, which may refer to different types of transactions (e.g., goods or services).\n",
    "\n",
    "<br>\n",
    "\n",
    "**2. Payment Card Information:**\n",
    "\n",
    "card1 - card6: Features related to the payment card, such as card type, category, issuing bank, and country.\n",
    "\n",
    "<br>\n",
    "\n",
    "**3. Address Information:**\n",
    "\n",
    "addr1, addr2: Billing and mailing address information.\n",
    "\n",
    "dist1, dist2: Distance features, likely related to geographic location (e.g., distance between billing and shipping address, IP address, etc.).\n",
    "<br>\n",
    "<br>\n",
    "\n",
    "**4. Email Domain Information:**\n",
    "\n",
    "P_emaildomain, R_emaildomain: The email domains for the purchaser and recipient. Some transactions may not have a recipient email domain.\n",
    "<br>\n",
    "<br>\n",
    "\n",
    "**5. Counting Features (C1 - C14):**\n",
    "\n",
    "These columns contain counts, such as how many addresses or phone numbers are linked to a particular payment card or how many devices are associated with the transaction.\n",
    "<br>\n",
    "<br>\n",
    "\n",
    "**6. Time Delta Features (D1 - D15):**\n",
    "\n",
    "These features represent time differences, such as the number of days since the last transaction for the same user or card.\n",
    "<br>\n",
    "<br>\n",
    "\n",
    "**7. Matching Features (M1 - M9):**\n",
    "\n",
    "These columns are used to match various aspects of the transaction, such as matching names on the card and the address.\n",
    "<br>\n",
    "<br>\n",
    "\n",
    "\n",
    "**8. Vesta Engineered Features (V1 - V339):**\n",
    "\n",
    "These are features engineered by the Vesta team, which include various ranking, counting, and entity relations, such as the frequency of transactions associated with a specific card, email, or address in a given time window."
   ]
  },
  {
   "cell_type": "markdown",
   "metadata": {},
   "source": [
    "## Specific dataset explenation (\"Identity\"data)"
   ]
  },
  {
   "cell_type": "code",
   "execution_count": 2,
   "metadata": {},
   "outputs": [
    {
     "name": "stdout",
     "output_type": "stream",
     "text": [
      "Index(['TransactionID', 'id_01', 'id_02', 'id_03', 'id_04', 'id_05', 'id_06',\n",
      "       'id_07', 'id_08', 'id_09', 'id_10', 'id_11', 'id_12', 'id_13', 'id_14',\n",
      "       'id_15', 'id_16', 'id_17', 'id_18', 'id_19', 'id_20', 'id_21', 'id_22',\n",
      "       'id_23', 'id_24', 'id_25', 'id_26', 'id_27', 'id_28', 'id_29', 'id_30',\n",
      "       'id_31', 'id_32', 'id_33', 'id_34', 'id_35', 'id_36', 'id_37', 'id_38',\n",
      "       'DeviceType', 'DeviceInfo'],\n",
      "      dtype='object')\n"
     ]
    }
   ],
   "source": [
    "import pandas as pd\n",
    "\n",
    "# Load the dataset\n",
    "df = pd.read_csv('train_identity.csv')\n",
    "\n",
    "# Get the column names (features)\n",
    "features = df.columns\n",
    "print(features)"
   ]
  },
  {
   "cell_type": "markdown",
   "metadata": {},
   "source": [
    "\n",
    "The identity dataset contains a variety of features related to the identity and digital security of transactions. These features primarily focus on network connection information (IP, ISP, Proxy, etc.) and digital signatures (e.g., browser, operating system, device type), which are collected by Vesta's fraud protection system and their digital security partners. These are not available for all transactions.\n",
    "\n",
    "**Breakdown of the identity dataset:**\n",
    "<br>\n",
    "<br>\n",
    "**1. Transaction Information:**\n",
    "<br>\n",
    "<br>\n",
    "\n",
    "**TransactionID:** \n",
    "<br>Unique identifier for each transaction (this is a common feature across both datasets).\n",
    "<br>\n",
    "<br>\n",
    "\n",
    "**2. Identity Features (id_01 to id_11):**\n",
    "<br>\n",
    "\n",
    "<br>\n",
    "These are numerical features associated with various identity-related information, such as device ratings, IP domain ratings, proxy ratings, and behavioral fingerprints. Examples of behavioral data might include account login times, failed login attempts, and how long an account stayed on the page. These features are collected by Vesta and security partners, but due to privacy agreements, the exact definitions are not provided. They will be treated as numerical/categorical features based on the context.\n",
    "<br>\n",
    "<br>\n",
    "\n",
    "**3. Additional Identity Information (id_12 to id_38):**\n",
    "<br>\n",
    "id_12 to id_38: These additional identity-related features may include more specific or detailed information about a transaction's associated identity, such as timestamps of certain actions or events related to the account and device. However, the exact nature of these features is not explicitly disclosed, so further investigation and assumption may be needed.\n",
    "<br>\n",
    "<br>\n",
    "\n",
    "**4. Device Information:**\n",
    "<br>\n",
    "DeviceType: Type of device used for the transaction (e.g., mobile, desktop).\n",
    "DeviceInfo: A more detailed description of the device used, which could include specific information about the browser, operating system, and version being used during the transaction.\n",
    "<br>\n",
    "<br>\n",
    "\n",
    "**General Observations:**\n",
    "<br>\n",
    "These features primarily help to track the behavior and characteristics of the user's device and account, which can be essential in detecting suspicious or fraudulent activities. For instance, frequent failed login attempts, a proxy server used, or a device with an unusual fingerprint might suggest a higher likelihood of fraud.\n",
    "\n",
    "After the analysis of the identity features, we can formulate a sub-question related to how these features contribute to detecting fraudulent transactions:\n",
    "\n",
    "**Sub-question: How do specific identity-related features, such as device type, IP address patterns, and behavioral data, contribute to identifying potentially fraudulent transactions?**"
   ]
  },
  {
   "cell_type": "markdown",
   "metadata": {},
   "source": [
    "# "
   ]
  },
  {
   "cell_type": "markdown",
   "metadata": {},
   "source": [
    "## Sub questions\n",
    "\n",
    "\n",
    "We have chosen to focus on one sub-question from the transaction dataset and one from the identity dataset to provide a analysis of the factors that contribute to fraudulent transactions.\n",
    "<br>\n",
    "By addressing both datasets separately, we aim to understand the role of both transaction details and identity-related features in fraud detection. This approach ensures a more separated investigation into the factors influencing fraudulent transactions.\n",
    "\n",
    "**Sub-question 1 (Transaction Dataset):**\n",
    "<br>\n",
    "How do the features in the transaction dataset, such as transaction amount, product code, and card details, influence the likelihood of a transaction being fraudulent?\n",
    "This question focuses on analyzing how various transaction-specific characteristics, such as the payment amount, the type of product or service involved, and details about the payment card, contribute to identifying fraudulent activities.\n",
    "\n",
    "**Sub-question 2 (Identity Dataset):**\n",
    "<br>\n",
    "How do specific identity-related features, such as device type, IP address patterns, and behavioral data, contribute to identifying potentially fraudulent transactions?\n",
    "The second sub-question investigates how identity-related factors, including device information, login behavior, and network-related details, can be used to flag suspicious activities. These features help track the user’s device and account behavior, which can serve as critical indicators of fraud. We will explore whether unusual device fingerprints, failed login attempts, or use of proxies correlate with a higher likelihood of fraudulent transactions."
   ]
  }
 ],
 "metadata": {
  "kernelspec": {
   "display_name": "Python 3",
   "language": "python",
   "name": "python3"
  },
  "language_info": {
   "codemirror_mode": {
    "name": "ipython",
    "version": 3
   },
   "file_extension": ".py",
   "mimetype": "text/x-python",
   "name": "python",
   "nbconvert_exporter": "python",
   "pygments_lexer": "ipython3",
   "version": "3.12.6"
  }
 },
 "nbformat": 4,
 "nbformat_minor": 2
}
