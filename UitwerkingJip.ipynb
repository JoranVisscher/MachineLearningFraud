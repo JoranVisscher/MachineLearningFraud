{
 "cells": [
  {
   "cell_type": "code",
   "execution_count": 2,
   "metadata": {},
   "outputs": [],
   "source": [
    "import pandas as pd\n",
    "import numpy as np\n",
    "import matplotlib.pyplot as plt\n",
    "%matplotlib inline\n",
    "\n",
    "# Load the data\n",
    "train_transaction = pd.read_csv(\"train_transaction.csv\")\n",
    "train_identity = pd.read_csv(\"train_identity.csv\")\n",
    "test_transaction = pd.read_csv(\"test_transaction.csv\")\n",
    "test_identity = pd.read_csv(\"test_identity.csv\")\n",
    "# Merge the data\n",
    "train_data = pd.merge(train_transaction, train_identity, on='TransactionID', how='left')\n",
    "test_data = pd.merge(test_transaction, test_identity, on='TransactionID', how='left')\n",
    "pd.set_option('display.max_rows', None)\n",
    "pd.set_option('display.max_columns', None)"
   ]
  },
  {
   "cell_type": "code",
   "execution_count": null,
   "metadata": {},
   "outputs": [],
   "source": [
    "# random forest classifier\n",
    "from sklearn.ensemble import RandomForestClassifier\n",
    "\n",
    "# Create a random forest classifier\n",
    "rf = RandomForestClassifier(random_state=42, n_estimators=50, max_depth=10, max_features='sqrt', n_jobs=-1)\n",
    "\n",
    "# Train the classifier\n",
    "rf.fit(train_data.drop('isFraud', axis=1), train_data['isFraud'])\n",
    "\n",
    "y_pred = rf.predict(train_data.drop('isFraud', axis=1))\n",
    "\n",
    "from sklearn.metrics import accuracy_score\n",
    "\n",
    "accuracy = accuracy_score(train_data['isFraud'], y_pred)\n",
    "print(f\"Accuracy: {accuracy}\")\n",
    "\n",
    "# use model on test data\n",
    "y_pred = rf.predict(test_data)\n",
    "\n",
    "# Create a submission file\n",
    "submission = pd.DataFrame({'TransactionID': test_data['TransactionID'], 'isFraud': y_pred})\n",
    "submission.to_csv('submission.csv', index=False)\n"
   ]
  }
 ],
 "metadata": {
  "kernelspec": {
   "display_name": "Python 3",
   "language": "python",
   "name": "python3"
  },
  "language_info": {
   "codemirror_mode": {
    "name": "ipython",
    "version": 3
   },
   "file_extension": ".py",
   "mimetype": "text/x-python",
   "name": "python",
   "nbconvert_exporter": "python",
   "pygments_lexer": "ipython3",
   "version": "3.11.5"
  }
 },
 "nbformat": 4,
 "nbformat_minor": 2
}
